{
 "cells": [
  {
   "cell_type": "code",
   "execution_count": 7,
   "metadata": {},
   "outputs": [],
   "source": [
    "import sys\n",
    "\n",
    "import matplotlib.pyplot as plt\n",
    "import numpy as np\n",
    "import pandas as pd\n",
    "import scanpy as sc\n",
    "\n",
    "sys.path.append(\"..\")\n",
    "# this is what you need for python script\n",
    "# sys.path.append(os.path.abspath(os.path.join(os.path.dirname(__file__), '..')))\n",
    "\n",
    "from partipy.paretoti_funcs import var_explained_aa, set_dimension\n",
    "\n",
    "plt.style.use(\"dark_background\")"
   ]
  },
  {
   "cell_type": "code",
   "execution_count": 8,
   "metadata": {},
   "outputs": [],
   "source": [
    "def simulate(\n",
    "    n_samples: int,\n",
    "    n_archetypes: int,\n",
    "    n_dimensions: int,\n",
    "    noise_std: float,\n",
    "    seed: int = 42,\n",
    "):\n",
    "    assert noise_std >= 0\n",
    "\n",
    "    rng = np.random.default_rng(seed=seed)\n",
    "    Z = rng.uniform(low=-1, high=1, size=(n_archetypes, n_dimensions))\n",
    "    A = rng.exponential(scale=1, size=(n_samples, n_archetypes))\n",
    "    A /= A.sum(axis=1, keepdims=True)\n",
    "    X = A @ Z\n",
    "    if noise_std > 0:\n",
    "        X += rng.normal(loc=0, scale=noise_std, size=X.shape)\n",
    "\n",
    "    assert np.all(np.isclose(A.sum(axis=1), 1))\n",
    "    assert A.min() > 0\n",
    "\n",
    "    return X, A, Z"
   ]
  },
  {
   "cell_type": "code",
   "execution_count": 9,
   "metadata": {},
   "outputs": [
    {
     "data": {
      "text/plain": [
       "(5000, 7)"
      ]
     },
     "execution_count": 9,
     "metadata": {},
     "output_type": "execute_result"
    }
   ],
   "source": [
    "X, A, Z = simulate(\n",
    "    n_samples=5_000,\n",
    "    n_archetypes=3,\n",
    "    n_dimensions=7,\n",
    "    noise_std=0.1\n",
    "    )\n",
    "X.shape"
   ]
  },
  {
   "cell_type": "code",
   "execution_count": 10,
   "metadata": {},
   "outputs": [
    {
     "name": "stderr",
     "output_type": "stream",
     "text": [
      "/Users/pschafer/miniforge3/envs/partipy/lib/python3.11/site-packages/anndata/_core/aligned_df.py:68: ImplicitModificationWarning: Transforming to str index.\n"
     ]
    }
   ],
   "source": [
    "adata = sc.AnnData(obs=pd.DataFrame(index=np.arange(X.shape[0])), obsm={\"X_pca\": X})\n",
    "set_dimension(adata, 7)"
   ]
  },
  {
   "cell_type": "code",
   "execution_count": 11,
   "metadata": {},
   "outputs": [],
   "source": [
    "var_explained_aa(adata=adata,\n",
    "                 min_a=2,\n",
    "                 max_a=10,\n",
    "                 n_jobs=1)"
   ]
  },
  {
   "cell_type": "code",
   "execution_count": 12,
   "metadata": {},
   "outputs": [],
   "source": [
    "var_explained_aa(adata=adata,\n",
    "                 min_a=2,\n",
    "                 max_a=10,\n",
    "                 n_jobs=-1)"
   ]
  },
  {
   "cell_type": "code",
   "execution_count": null,
   "metadata": {},
   "outputs": [],
   "source": []
  },
  {
   "cell_type": "code",
   "execution_count": null,
   "metadata": {},
   "outputs": [],
   "source": []
  },
  {
   "cell_type": "code",
   "execution_count": null,
   "metadata": {},
   "outputs": [],
   "source": []
  }
 ],
 "metadata": {
  "kernelspec": {
   "display_name": "partipy",
   "language": "python",
   "name": "python3"
  },
  "language_info": {
   "codemirror_mode": {
    "name": "ipython",
    "version": 3
   },
   "file_extension": ".py",
   "mimetype": "text/x-python",
   "name": "python",
   "nbconvert_exporter": "python",
   "pygments_lexer": "ipython3",
   "version": "3.11.11"
  }
 },
 "nbformat": 4,
 "nbformat_minor": 2
}
