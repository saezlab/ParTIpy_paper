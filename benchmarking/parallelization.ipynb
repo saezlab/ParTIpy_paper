{
 "cells": [
  {
   "cell_type": "code",
   "execution_count": 18,
   "metadata": {},
   "outputs": [],
   "source": [
    "import sys\n",
    "\n",
    "import matplotlib.pyplot as plt\n",
    "import numpy as np\n",
    "import pandas as pd\n",
    "import scanpy as sc\n",
    "\n",
    "sys.path.append(\"..\")\n",
    "# this is what you need for python script\n",
    "# sys.path.append(os.path.abspath(os.path.join(os.path.dirname(__file__), '..')))\n",
    "\n",
    "from partipy.paretoti_funcs import var_explained_aa\n",
    "\n",
    "plt.style.use(\"dark_background\")"
   ]
  },
  {
   "cell_type": "code",
   "execution_count": 19,
   "metadata": {},
   "outputs": [],
   "source": [
    "def simulate(\n",
    "    n_samples: int,\n",
    "    n_archetypes: int,\n",
    "    n_dimensions: int,\n",
    "    noise_std: float,\n",
    "    seed: int = 42,\n",
    "):\n",
    "    assert noise_std >= 0\n",
    "\n",
    "    rng = np.random.default_rng(seed=seed)\n",
    "    Z = rng.uniform(low=-1, high=1, size=(n_archetypes, n_dimensions))\n",
    "    A = rng.exponential(scale=1, size=(n_samples, n_archetypes))\n",
    "    A /= A.sum(axis=1, keepdims=True)\n",
    "    X = A @ Z\n",
    "    if noise_std > 0:\n",
    "        X += rng.normal(loc=0, scale=noise_std, size=X.shape)\n",
    "\n",
    "    assert np.all(np.isclose(A.sum(axis=1), 1))\n",
    "    assert A.min() > 0\n",
    "\n",
    "    return X, A, Z"
   ]
  },
  {
   "cell_type": "code",
   "execution_count": 20,
   "metadata": {},
   "outputs": [
    {
     "data": {
      "text/plain": [
       "(5000, 7)"
      ]
     },
     "execution_count": 20,
     "metadata": {},
     "output_type": "execute_result"
    }
   ],
   "source": [
    "X, A, Z = simulate(\n",
    "    n_samples=5_000,\n",
    "    n_archetypes=3,\n",
    "    n_dimensions=7,\n",
    "    noise_std=0.1\n",
    "    )\n",
    "X.shape"
   ]
  },
  {
   "cell_type": "code",
   "execution_count": 25,
   "metadata": {},
   "outputs": [
    {
     "name": "stderr",
     "output_type": "stream",
     "text": [
      "/Users/pschafer/miniforge3/envs/partipy/lib/python3.11/site-packages/anndata/_core/aligned_df.py:68: ImplicitModificationWarning: Transforming to str index.\n"
     ]
    },
    {
     "data": {
      "text/plain": [
       "AnnData object with n_obs × n_vars = 5000 × 0\n",
       "    obsm: 'X_pca_reduced'"
      ]
     },
     "execution_count": 25,
     "metadata": {},
     "output_type": "execute_result"
    }
   ],
   "source": [
    "adata = sc.AnnData(obs=pd.DataFrame(index=np.arange(X.shape[0])), obsm={\"X_pca_reduced\": X})\n",
    "adata"
   ]
  },
  {
   "cell_type": "code",
   "execution_count": 26,
   "metadata": {},
   "outputs": [],
   "source": [
    "var_explained_aa(adata=adata,\n",
    "                 min_a=2,\n",
    "                 max_a=10,\n",
    "                 n_jobs=1)"
   ]
  },
  {
   "cell_type": "code",
   "execution_count": 27,
   "metadata": {},
   "outputs": [],
   "source": [
    "var_explained_aa(adata=adata,\n",
    "                 min_a=2,\n",
    "                 max_a=10,\n",
    "                 n_jobs=-1)"
   ]
  },
  {
   "cell_type": "code",
   "execution_count": null,
   "metadata": {},
   "outputs": [],
   "source": []
  }
 ],
 "metadata": {
  "kernelspec": {
   "display_name": "partipy",
   "language": "python",
   "name": "python3"
  },
  "language_info": {
   "codemirror_mode": {
    "name": "ipython",
    "version": 3
   },
   "file_extension": ".py",
   "mimetype": "text/x-python",
   "name": "python",
   "nbconvert_exporter": "python",
   "pygments_lexer": "ipython3",
   "version": "3.11.11"
  }
 },
 "nbformat": 4,
 "nbformat_minor": 2
}
