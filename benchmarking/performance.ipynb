{
 "cells": [
  {
   "cell_type": "code",
   "execution_count": 8,
   "metadata": {},
   "outputs": [],
   "source": [
    "import sys\n",
    "\n",
    "sys.path.append(\"..\")\n",
    "# this is what you need for python script\n",
    "# sys.path.append(os.path.abspath(os.path.join(os.path.dirname(__file__), '..')))\n",
    "\n",
    "import matplotlib.pyplot as plt\n",
    "import numpy as np\n",
    "import pandas as pd\n",
    "import seaborn as sns\n",
    "from partipy.arch import AA\n",
    "from partipy.const import OPTIM_ALGS\n",
    "from partipy.generate_test_data import simulate\n",
    "\n",
    "N_SAMPLES = 50_000\n",
    "N_ARCHETYPES = 8\n",
    "N_DIMENSIONS = 20\n",
    "\n",
    "X, A, Z = simulate(n_samples=N_SAMPLES,\n",
    "                   n_archetypes=N_ARCHETYPES,\n",
    "                   n_dimensions=N_DIMENSIONS,\n",
    "                   noise_std=0.0)"
   ]
  },
  {
   "cell_type": "code",
   "execution_count": 11,
   "metadata": {},
   "outputs": [
    {
     "data": {
      "application/vnd.microsoft.datawrangler.viewer.v0+json": {
       "columns": [
        {
         "name": "index",
         "rawType": "int64",
         "type": "integer"
        },
        {
         "name": "rss",
         "rawType": "float64",
         "type": "float"
        },
        {
         "name": "iteration",
         "rawType": "int64",
         "type": "integer"
        },
        {
         "name": "algorithm",
         "rawType": "object",
         "type": "string"
        }
       ],
       "conversionMethod": "pd.DataFrame",
       "ref": "4bf22c45-7049-4094-95d4-587f43f5c56f",
       "rows": [
        [
         "0",
         "11372.841963525214",
         "0",
         "regularized_nnls"
        ],
        [
         "1",
         "6713.133275928179",
         "1",
         "regularized_nnls"
        ],
        [
         "2",
         "3522.590735512901",
         "2",
         "regularized_nnls"
        ],
        [
         "3",
         "1453.4909000032724",
         "3",
         "regularized_nnls"
        ],
        [
         "4",
         "696.28071271614",
         "4",
         "regularized_nnls"
        ],
        [
         "5",
         "418.34015781858113",
         "5",
         "regularized_nnls"
        ],
        [
         "6",
         "292.02623637991775",
         "6",
         "regularized_nnls"
        ],
        [
         "7",
         "225.57294139867662",
         "7",
         "regularized_nnls"
        ],
        [
         "8",
         "193.59410079887417",
         "8",
         "regularized_nnls"
        ],
        [
         "9",
         "176.90274351387575",
         "9",
         "regularized_nnls"
        ],
        [
         "10",
         "164.27846372805362",
         "10",
         "regularized_nnls"
        ],
        [
         "11",
         "157.99461671561693",
         "11",
         "regularized_nnls"
        ],
        [
         "12",
         "153.45875001824842",
         "12",
         "regularized_nnls"
        ],
        [
         "13",
         "150.12865861704762",
         "13",
         "regularized_nnls"
        ],
        [
         "14",
         "147.46112136504124",
         "14",
         "regularized_nnls"
        ],
        [
         "15",
         "145.2038157514644",
         "15",
         "regularized_nnls"
        ],
        [
         "16",
         "144.0893648345618",
         "16",
         "regularized_nnls"
        ],
        [
         "17",
         "143.26286351871548",
         "17",
         "regularized_nnls"
        ],
        [
         "18",
         "142.61426221026784",
         "18",
         "regularized_nnls"
        ],
        [
         "19",
         "142.05643662650166",
         "19",
         "regularized_nnls"
        ],
        [
         "20",
         "141.54314557655002",
         "20",
         "regularized_nnls"
        ],
        [
         "21",
         "141.01678237667178",
         "21",
         "regularized_nnls"
        ],
        [
         "22",
         "140.38358471536915",
         "22",
         "regularized_nnls"
        ],
        [
         "23",
         "140.25907199420988",
         "23",
         "regularized_nnls"
        ],
        [
         "24",
         "140.28256049765238",
         "24",
         "regularized_nnls"
        ],
        [
         "25",
         "140.3042207861959",
         "25",
         "regularized_nnls"
        ],
        [
         "26",
         "140.32360013466246",
         "26",
         "regularized_nnls"
        ],
        [
         "27",
         "140.3405981061335",
         "27",
         "regularized_nnls"
        ],
        [
         "28",
         "140.35530501098813",
         "28",
         "regularized_nnls"
        ],
        [
         "29",
         "140.36790791449928",
         "29",
         "regularized_nnls"
        ],
        [
         "30",
         "140.37863203013669",
         "30",
         "regularized_nnls"
        ],
        [
         "31",
         "140.38770898719847",
         "31",
         "regularized_nnls"
        ],
        [
         "32",
         "140.3953619625451",
         "32",
         "regularized_nnls"
        ],
        [
         "33",
         "140.4017931264088",
         "33",
         "regularized_nnls"
        ],
        [
         "34",
         "140.40718351682062",
         "34",
         "regularized_nnls"
        ],
        [
         "35",
         "140.4116922436293",
         "35",
         "regularized_nnls"
        ],
        [
         "36",
         "140.41545720159525",
         "36",
         "regularized_nnls"
        ],
        [
         "37",
         "140.41859691567473",
         "37",
         "regularized_nnls"
        ],
        [
         "38",
         "140.42121191465904",
         "38",
         "regularized_nnls"
        ],
        [
         "39",
         "140.42338760552101",
         "39",
         "regularized_nnls"
        ],
        [
         "40",
         "140.4251962926343",
         "40",
         "regularized_nnls"
        ],
        [
         "41",
         "140.42669875625108",
         "41",
         "regularized_nnls"
        ],
        [
         "42",
         "140.42794607236465",
         "42",
         "regularized_nnls"
        ],
        [
         "43",
         "140.42898105600983",
         "43",
         "regularized_nnls"
        ],
        [
         "44",
         "140.42983945205253",
         "44",
         "regularized_nnls"
        ],
        [
         "45",
         "140.4305510880091",
         "45",
         "regularized_nnls"
        ],
        [
         "46",
         "140.43114083306222",
         "46",
         "regularized_nnls"
        ],
        [
         "47",
         "140.43162939980013",
         "47",
         "regularized_nnls"
        ],
        [
         "48",
         "140.4320340256696",
         "48",
         "regularized_nnls"
        ],
        [
         "49",
         "140.43236904120334",
         "49",
         "regularized_nnls"
        ]
       ],
       "shape": {
        "columns": 3,
        "rows": 150
       }
      },
      "text/html": [
       "<div>\n",
       "<style scoped>\n",
       "    .dataframe tbody tr th:only-of-type {\n",
       "        vertical-align: middle;\n",
       "    }\n",
       "\n",
       "    .dataframe tbody tr th {\n",
       "        vertical-align: top;\n",
       "    }\n",
       "\n",
       "    .dataframe thead th {\n",
       "        text-align: right;\n",
       "    }\n",
       "</style>\n",
       "<table border=\"1\" class=\"dataframe\">\n",
       "  <thead>\n",
       "    <tr style=\"text-align: right;\">\n",
       "      <th></th>\n",
       "      <th>rss</th>\n",
       "      <th>iteration</th>\n",
       "      <th>algorithm</th>\n",
       "    </tr>\n",
       "  </thead>\n",
       "  <tbody>\n",
       "    <tr>\n",
       "      <th>0</th>\n",
       "      <td>11372.841964</td>\n",
       "      <td>0</td>\n",
       "      <td>regularized_nnls</td>\n",
       "    </tr>\n",
       "    <tr>\n",
       "      <th>1</th>\n",
       "      <td>6713.133276</td>\n",
       "      <td>1</td>\n",
       "      <td>regularized_nnls</td>\n",
       "    </tr>\n",
       "    <tr>\n",
       "      <th>2</th>\n",
       "      <td>3522.590736</td>\n",
       "      <td>2</td>\n",
       "      <td>regularized_nnls</td>\n",
       "    </tr>\n",
       "    <tr>\n",
       "      <th>3</th>\n",
       "      <td>1453.490900</td>\n",
       "      <td>3</td>\n",
       "      <td>regularized_nnls</td>\n",
       "    </tr>\n",
       "    <tr>\n",
       "      <th>4</th>\n",
       "      <td>696.280713</td>\n",
       "      <td>4</td>\n",
       "      <td>regularized_nnls</td>\n",
       "    </tr>\n",
       "    <tr>\n",
       "      <th>...</th>\n",
       "      <td>...</td>\n",
       "      <td>...</td>\n",
       "      <td>...</td>\n",
       "    </tr>\n",
       "    <tr>\n",
       "      <th>45</th>\n",
       "      <td>238.534781</td>\n",
       "      <td>45</td>\n",
       "      <td>frank_wolfe</td>\n",
       "    </tr>\n",
       "    <tr>\n",
       "      <th>46</th>\n",
       "      <td>236.547308</td>\n",
       "      <td>46</td>\n",
       "      <td>frank_wolfe</td>\n",
       "    </tr>\n",
       "    <tr>\n",
       "      <th>47</th>\n",
       "      <td>234.616564</td>\n",
       "      <td>47</td>\n",
       "      <td>frank_wolfe</td>\n",
       "    </tr>\n",
       "    <tr>\n",
       "      <th>48</th>\n",
       "      <td>232.825839</td>\n",
       "      <td>48</td>\n",
       "      <td>frank_wolfe</td>\n",
       "    </tr>\n",
       "    <tr>\n",
       "      <th>49</th>\n",
       "      <td>231.103167</td>\n",
       "      <td>49</td>\n",
       "      <td>frank_wolfe</td>\n",
       "    </tr>\n",
       "  </tbody>\n",
       "</table>\n",
       "<p>150 rows × 3 columns</p>\n",
       "</div>"
      ],
      "text/plain": [
       "             rss  iteration         algorithm\n",
       "0   11372.841964          0  regularized_nnls\n",
       "1    6713.133276          1  regularized_nnls\n",
       "2    3522.590736          2  regularized_nnls\n",
       "3    1453.490900          3  regularized_nnls\n",
       "4     696.280713          4  regularized_nnls\n",
       "..           ...        ...               ...\n",
       "45    238.534781         45       frank_wolfe\n",
       "46    236.547308         46       frank_wolfe\n",
       "47    234.616564         47       frank_wolfe\n",
       "48    232.825839         48       frank_wolfe\n",
       "49    231.103167         49       frank_wolfe\n",
       "\n",
       "[150 rows x 3 columns]"
      ]
     },
     "execution_count": 11,
     "metadata": {},
     "output_type": "execute_result"
    }
   ],
   "source": [
    "df_list = []\n",
    "for optim_alg in OPTIM_ALGS:\n",
    "# for optim_alg in [\"frank_wolfe\"]:\n",
    "    AA_object = AA(n_archetypes=N_ARCHETYPES,\n",
    "                   weight=None,\n",
    "                   optim=optim_alg,\n",
    "                   init=\"random\",\n",
    "                #    init=\"furthest_sum\",\n",
    "                   max_iter=50).fit(X)\n",
    "    df_list.append(pd.DataFrame({\n",
    "        \"rss\": AA_object.RSS_trace.copy(),\n",
    "        \"iteration\": np.arange(len(AA_object.RSS_trace)),\n",
    "        \"algorithm\": optim_alg\n",
    "    }))\n",
    "plot_df = pd.concat(df_list, axis=0)\n",
    "plot_df"
   ]
  },
  {
   "cell_type": "code",
   "execution_count": null,
   "metadata": {},
   "outputs": [
    {
     "data": {
      "image/png": "[encoded data removed]",
      "text/plain": [
       "<Figure size 640x480 with 1 Axes>"
      ]
     },
     "metadata": {},
     "output_type": "display_data"
    }
   ],
   "source": [
    "plt.style.use(\"dark_background\")\n",
    "sns.lineplot(data=plot_df, x=\"iteration\", y=\"rss\", hue=\"algorithm\")\n",
    "plt.xlabel(\"Iteration\")\n",
    "plt.ylabel(\"Residual Sum of Squares (RSS)\")\n",
    "plt.show()\n",
    "#random"
   ]
  },
  {
   "cell_type": "code",
   "execution_count": null,
   "metadata": {},
   "outputs": [
    {
     "data": {
      "image/png": "[encoded data removed]",
      "text/plain": [
       "<Figure size 640x480 with 1 Axes>"
      ]
     },
     "metadata": {},
     "output_type": "display_data"
    }
   ],
   "source": [
    "plt.style.use(\"dark_background\")\n",
    "sns.lineplot(data=plot_df, x=\"iteration\", y=\"rss\", hue=\"algorithm\")\n",
    "plt.xlabel(\"Iteration\")\n",
    "plt.ylabel(\"Residual Sum of Squares (RSS)\")\n",
    "plt.show()\n",
    "#furthest sum"
   ]
  },
  {
   "cell_type": "code",
   "execution_count": null,
   "metadata": {},
   "outputs": [],
   "source": []
  },
  {
   "cell_type": "code",
   "execution_count": null,
   "metadata": {},
   "outputs": [],
   "source": []
  },
  {
   "cell_type": "code",
   "execution_count": null,
   "metadata": {},
   "outputs": [],
   "source": []
  }
 ],
 "metadata": {
  "kernelspec": {
   "display_name": "partipy",
   "language": "python",
   "name": "python3"
  },
  "language_info": {
   "codemirror_mode": {
    "name": "ipython",
    "version": 3
   },
   "file_extension": ".py",
   "mimetype": "text/x-python",
   "name": "python",
   "nbconvert_exporter": "python",
   "pygments_lexer": "ipython3",
   "version": "3.11.11"
  }
 },
 "nbformat": 4,
 "nbformat_minor": 2
}
