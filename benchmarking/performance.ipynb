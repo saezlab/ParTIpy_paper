{
 "cells": [
  {
   "cell_type": "code",
   "execution_count": 1,
   "metadata": {},
   "outputs": [],
   "source": [
    "import matplotlib.pyplot as plt\n",
    "import numpy as np\n",
    "import pandas as pd\n",
    "import seaborn as sns\n",
    "\n",
    "import partipy as pt\n",
    "\n",
    "N_SAMPLES = 50_000\n",
    "N_ARCHETYPES = 8\n",
    "N_DIMENSIONS = 20\n",
    "\n",
    "X, A, Z = pt.simulate_archetypes(n_samples=N_SAMPLES,\n",
    "                                 n_archetypes=N_ARCHETYPES,\n",
    "                                 n_dimensions=N_DIMENSIONS,\n",
    "                                 noise_std=0.0)"
   ]
  },
  {
   "cell_type": "code",
   "execution_count": 2,
   "metadata": {},
   "outputs": [
    {
     "name": "stdout",
     "output_type": "stream",
     "text": [
      "projected_gradients\n",
      "frank_wolfe\n"
     ]
    },
    {
     "data": {
      "text/html": [
       "<div>\n",
       "<style scoped>\n",
       "    .dataframe tbody tr th:only-of-type {\n",
       "        vertical-align: middle;\n",
       "    }\n",
       "\n",
       "    .dataframe tbody tr th {\n",
       "        vertical-align: top;\n",
       "    }\n",
       "\n",
       "    .dataframe thead th {\n",
       "        text-align: right;\n",
       "    }\n",
       "</style>\n",
       "<table border=\"1\" class=\"dataframe\">\n",
       "  <thead>\n",
       "    <tr style=\"text-align: right;\">\n",
       "      <th></th>\n",
       "      <th>rss</th>\n",
       "      <th>iteration</th>\n",
       "      <th>algorithm</th>\n",
       "    </tr>\n",
       "  </thead>\n",
       "  <tbody>\n",
       "    <tr>\n",
       "      <th>0</th>\n",
       "      <td>18871.660156</td>\n",
       "      <td>0</td>\n",
       "      <td>projected_gradients</td>\n",
       "    </tr>\n",
       "    <tr>\n",
       "      <th>1</th>\n",
       "      <td>14633.822266</td>\n",
       "      <td>1</td>\n",
       "      <td>projected_gradients</td>\n",
       "    </tr>\n",
       "    <tr>\n",
       "      <th>2</th>\n",
       "      <td>10508.142578</td>\n",
       "      <td>2</td>\n",
       "      <td>projected_gradients</td>\n",
       "    </tr>\n",
       "    <tr>\n",
       "      <th>3</th>\n",
       "      <td>7483.609375</td>\n",
       "      <td>3</td>\n",
       "      <td>projected_gradients</td>\n",
       "    </tr>\n",
       "    <tr>\n",
       "      <th>4</th>\n",
       "      <td>6598.640625</td>\n",
       "      <td>4</td>\n",
       "      <td>projected_gradients</td>\n",
       "    </tr>\n",
       "    <tr>\n",
       "      <th>...</th>\n",
       "      <td>...</td>\n",
       "      <td>...</td>\n",
       "      <td>...</td>\n",
       "    </tr>\n",
       "    <tr>\n",
       "      <th>95</th>\n",
       "      <td>136.368851</td>\n",
       "      <td>95</td>\n",
       "      <td>frank_wolfe</td>\n",
       "    </tr>\n",
       "    <tr>\n",
       "      <th>96</th>\n",
       "      <td>136.351166</td>\n",
       "      <td>96</td>\n",
       "      <td>frank_wolfe</td>\n",
       "    </tr>\n",
       "    <tr>\n",
       "      <th>97</th>\n",
       "      <td>136.335220</td>\n",
       "      <td>97</td>\n",
       "      <td>frank_wolfe</td>\n",
       "    </tr>\n",
       "    <tr>\n",
       "      <th>98</th>\n",
       "      <td>136.320343</td>\n",
       "      <td>98</td>\n",
       "      <td>frank_wolfe</td>\n",
       "    </tr>\n",
       "    <tr>\n",
       "      <th>99</th>\n",
       "      <td>136.309280</td>\n",
       "      <td>99</td>\n",
       "      <td>frank_wolfe</td>\n",
       "    </tr>\n",
       "  </tbody>\n",
       "</table>\n",
       "<p>184 rows × 3 columns</p>\n",
       "</div>"
      ],
      "text/plain": [
       "             rss  iteration            algorithm\n",
       "0   18871.660156          0  projected_gradients\n",
       "1   14633.822266          1  projected_gradients\n",
       "2   10508.142578          2  projected_gradients\n",
       "3    7483.609375          3  projected_gradients\n",
       "4    6598.640625          4  projected_gradients\n",
       "..           ...        ...                  ...\n",
       "95    136.368851         95          frank_wolfe\n",
       "96    136.351166         96          frank_wolfe\n",
       "97    136.335220         97          frank_wolfe\n",
       "98    136.320343         98          frank_wolfe\n",
       "99    136.309280         99          frank_wolfe\n",
       "\n",
       "[184 rows x 3 columns]"
      ]
     },
     "execution_count": 2,
     "metadata": {},
     "output_type": "execute_result"
    }
   ],
   "source": [
    "df_list = []\n",
    "#for optim_alg in pt.OPTIM_ALGS:\n",
    "for optim_alg in ['projected_gradients', 'frank_wolfe']:\n",
    "    print(optim_alg)\n",
    "    AA_object = pt.AA(n_archetypes=N_ARCHETYPES,\n",
    "                      weight=None,\n",
    "                      optim=optim_alg, \n",
    "                      init=\"random\",\n",
    "                      #init=\"furthest_sum\",\n",
    "                      max_iter=100).fit(X)\n",
    "    df_list.append(pd.DataFrame({\n",
    "        \"rss\": AA_object.RSS_trace.copy(),\n",
    "        \"iteration\": np.arange(len(AA_object.RSS_trace)),\n",
    "        \"algorithm\": optim_alg\n",
    "    }))\n",
    "plot_df = pd.concat(df_list, axis=0)\n",
    "plot_df"
   ]
  },
  {
   "cell_type": "code",
   "execution_count": 5,
   "metadata": {},
   "outputs": [
    {
     "name": "stdout",
     "output_type": "stream",
     "text": [
      "          rss  iteration    algorithm\n",
      "99  136.30928         99  frank_wolfe\n",
      "           rss  iteration            algorithm\n",
      "83  135.988312         83  projected_gradients\n"
     ]
    }
   ],
   "source": [
    "print(plot_df.query(\"algorithm=='frank_wolfe'\").tail(1))\n",
    "print(plot_df.query(\"algorithm=='projected_gradients'\").tail(1))"
   ]
  },
  {
   "cell_type": "code",
   "execution_count": 4,
   "metadata": {},
   "outputs": [
    {
     "data": {
      "image/png": "[encoded data removed]",
      "text/plain": [
       "<Figure size 640x480 with 1 Axes>"
      ]
     },
     "metadata": {},
     "output_type": "display_data"
    }
   ],
   "source": [
    "plt.style.use(\"dark_background\")\n",
    "sns.lineplot(data=plot_df, x=\"iteration\", y=\"rss\", hue=\"algorithm\")\n",
    "plt.xlabel(\"Iteration\")\n",
    "plt.ylabel(\"Residual Sum of Squares (RSS)\")\n",
    "plt.show()"
   ]
  },
  {
   "cell_type": "code",
   "execution_count": null,
   "metadata": {},
   "outputs": [],
   "source": []
  },
  {
   "cell_type": "code",
   "execution_count": null,
   "metadata": {},
   "outputs": [],
   "source": []
  },
  {
   "cell_type": "code",
   "execution_count": null,
   "metadata": {},
   "outputs": [],
   "source": []
  }
 ],
 "metadata": {
  "kernelspec": {
   "display_name": "partipy",
   "language": "python",
   "name": "python3"
  },
  "language_info": {
   "codemirror_mode": {
    "name": "ipython",
    "version": 3
   },
   "file_extension": ".py",
   "mimetype": "text/x-python",
   "name": "python",
   "nbconvert_exporter": "python",
   "pygments_lexer": "ipython3",
   "version": "3.11.11"
  }
 },
 "nbformat": 4,
 "nbformat_minor": 2
}
