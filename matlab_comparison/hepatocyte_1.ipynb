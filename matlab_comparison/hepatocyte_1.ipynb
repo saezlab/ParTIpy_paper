{
 "cells": [
  {
   "cell_type": "code",
   "execution_count": 1,
   "id": "8566f352",
   "metadata": {},
   "outputs": [
    {
     "name": "stdout",
     "output_type": "stream",
     "text": [
      "Downloaded: ../data/GSE84498%5Fexperimental%5Fdesign.txt.gz\n",
      "Downloaded: ../data/GSE84498%5Fumitab.txt.gz\n"
     ]
    },
    {
     "data": {
      "text/plain": [
       "AnnData object with n_obs × n_vars = 1534 × 10400\n",
       "    obs: 'batch', 'seq_batch_ID', 'plate_coordinates', 'pool_barcode', 'cell_barcode', 'plate', 'subject'"
      ]
     },
     "execution_count": 1,
     "metadata": {},
     "output_type": "execute_result"
    }
   ],
   "source": [
    "import os\n",
    "from pathlib import Path\n",
    "\n",
    "import scanpy as sc\n",
    "import pandas as pd\n",
    "import numpy as np\n",
    "\n",
    "def download_file(url, output_dir, use_cache=True):\n",
    "    import requests\n",
    "    filename = output_dir / os.path.basename(url)\n",
    "    \n",
    "    if use_cache and filename.exists():\n",
    "        print(f\"File already exists, skipping: {filename}\")\n",
    "        return filename\n",
    "\n",
    "    response = requests.get(url, stream=True)\n",
    "    response.raise_for_status()\n",
    "    \n",
    "    with open(filename, \"wb\") as file:\n",
    "        for chunk in response.iter_content(chunk_size=8192):\n",
    "            file.write(chunk)\n",
    "    \n",
    "    print(f\"Downloaded: {filename}\")\n",
    "    return filename\n",
    "\n",
    "data_dir = Path(\"..\") / \"data\"\n",
    "data_dir.mkdir(exist_ok=True)\n",
    "\n",
    "file_urls = [\n",
    "    \"https://ftp.ncbi.nlm.nih.gov/geo/series/GSE84nnn/GSE84498/suppl/GSE84498%5Fexperimental%5Fdesign.txt.gz\",\n",
    "    \"https://ftp.ncbi.nlm.nih.gov/geo/series/GSE84nnn/GSE84498/suppl/GSE84498%5Fumitab.txt.gz\"\n",
    "]\n",
    "\n",
    "for url in file_urls:\n",
    "    download_file(url=url, output_dir=data_dir)\n",
    "\n",
    "obs = (pd.read_csv(data_dir / os.path.basename(file_urls[0]), sep=\"\\t\")\n",
    "       .set_index(\"well\"))\n",
    "count_df = (pd.read_csv(data_dir / os.path.basename(file_urls[1]), sep=\"\\t\")\n",
    "            .set_index(\"gene\").T\n",
    "            .loc[obs.index, :])\n",
    "adata = sc.AnnData(\n",
    "    X = count_df.values.astype(np.float32),\n",
    "    obs = obs, \n",
    "    var = pd.DataFrame(index=[c.split(\";\")[0] for c in count_df.columns])\n",
    ")\n",
    "adata = adata[:, adata.X.sum(axis=0) >= 20].copy()\n",
    "# remove batches of different cells (probably non-hepatocytes)\n",
    "adata = adata[~adata.obs[\"batch\"].isin([\"AB630\", \"AB631\"])].copy()\n",
    "adata"
   ]
  },
  {
   "cell_type": "code",
   "execution_count": null,
   "id": "60775d7c",
   "metadata": {},
   "outputs": [],
   "source": []
  },
  {
   "cell_type": "code",
   "execution_count": null,
   "id": "25a02991",
   "metadata": {},
   "outputs": [],
   "source": []
  },
  {
   "cell_type": "code",
   "execution_count": null,
   "id": "cd72d2e8",
   "metadata": {},
   "outputs": [],
   "source": []
  }
 ],
 "metadata": {
  "kernelspec": {
   "display_name": "partipy",
   "language": "python",
   "name": "python3"
  },
  "language_info": {
   "codemirror_mode": {
    "name": "ipython",
    "version": 3
   },
   "file_extension": ".py",
   "mimetype": "text/x-python",
   "name": "python",
   "nbconvert_exporter": "python",
   "pygments_lexer": "ipython3",
   "version": "3.11.0"
  }
 },
 "nbformat": 4,
 "nbformat_minor": 5
}
