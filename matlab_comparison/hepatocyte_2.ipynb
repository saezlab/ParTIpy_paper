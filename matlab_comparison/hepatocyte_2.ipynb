{
 "cells": [
  {
   "cell_type": "code",
   "execution_count": 1,
   "id": "8b2b1107",
   "metadata": {},
   "outputs": [
    {
     "name": "stdout",
     "output_type": "stream",
     "text": [
      "File not found. Downloading from https://zenodo.org/records/6035873/files/Single_cell_Meta_data.txt?download=1...\n",
      "File not found. Downloading from https://zenodo.org/records/6035873/files/Single_cell_UMI_COUNT.txt?download=1...\n"
     ]
    },
    {
     "data": {
      "text/plain": [
       "AnnData object with n_obs × n_vars = 1999 × 11706\n",
       "    obs: 'cell_type', 'zone', 'run_id', 'time_point', 'UMAP_X', 'UMAP_Y'"
      ]
     },
     "execution_count": 1,
     "metadata": {},
     "output_type": "execute_result"
    }
   ],
   "source": [
    "from pathlib import Path\n",
    "import requests\n",
    "\n",
    "import scanpy as sc\n",
    "import pandas as pd\n",
    "import numpy as np\n",
    "\n",
    "data_dir = Path(\"..\") / \"data\"\n",
    "data_dir.mkdir(parents=True, exist_ok=True)\n",
    "\n",
    "url_dict = {\n",
    "    \"hepatocyte_meta\": \"https://zenodo.org/records/6035873/files/Single_cell_Meta_data.txt?download=1\",\n",
    "    \"hepatocyte_counts\": \"https://zenodo.org/records/6035873/files/Single_cell_UMI_COUNT.txt?download=1\",\n",
    "}\n",
    "\n",
    "for file, url in url_dict.items():\n",
    "    file_path = data_dir / f\"{file}.txt\"\n",
    "    if file_path.exists():\n",
    "        print(f\"Loading existing data from {file_path}\")\n",
    "    else:\n",
    "        print(f\"File not found. Downloading from {url}...\")\n",
    "        response = requests.get(url, stream=True)\n",
    "        response.raise_for_status()  # Raise an error for bad HTTP status codes\n",
    "        with open(file_path, \"wb\") as file:\n",
    "            for chunk in response.iter_content(chunk_size=8192):\n",
    "                file.write(chunk)\n",
    "\n",
    "count_tmp = pd.read_csv(data_dir / \"hepatocyte_counts.txt\").set_index(\"Gene_Name\")\n",
    "meta_tmp = pd.read_csv(data_dir / \"hepatocyte_meta.txt\")\n",
    "meta_tmp = (meta_tmp.loc[meta_tmp[\"Cell_barcode\"].isin(count_tmp.columns.to_list())]\n",
    "            .set_index(\"Cell_barcode\"))\n",
    "adata = sc.AnnData(X=count_tmp.values.copy().T.astype(np.float32),\n",
    "                   var=pd.DataFrame(index=count_tmp.index.copy()),\n",
    "                   obs=meta_tmp.loc[count_tmp.columns.to_numpy(), :].copy())\n",
    "del count_tmp, meta_tmp\n",
    "adata = adata[(adata.obs[\"time_point\"] == 0) & (adata.obs[\"cell_type\"] == \"Hep\"), :].copy()\n",
    "adata = adata[:, adata.X.sum(axis=0) > 0].copy()\n",
    "adata"
   ]
  },
  {
   "cell_type": "code",
   "execution_count": null,
   "id": "d0e7d798",
   "metadata": {},
   "outputs": [],
   "source": []
  },
  {
   "cell_type": "code",
   "execution_count": null,
   "id": "f6614273",
   "metadata": {},
   "outputs": [],
   "source": []
  },
  {
   "cell_type": "code",
   "execution_count": null,
   "id": "ef729208",
   "metadata": {},
   "outputs": [],
   "source": []
  }
 ],
 "metadata": {
  "kernelspec": {
   "display_name": "partipy",
   "language": "python",
   "name": "python3"
  },
  "language_info": {
   "codemirror_mode": {
    "name": "ipython",
    "version": 3
   },
   "file_extension": ".py",
   "mimetype": "text/x-python",
   "name": "python",
   "nbconvert_exporter": "python",
   "pygments_lexer": "ipython3",
   "version": "3.11.0"
  }
 },
 "nbformat": 4,
 "nbformat_minor": 5
}
