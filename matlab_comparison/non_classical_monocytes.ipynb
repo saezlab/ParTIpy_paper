{
 "cells": [
  {
   "cell_type": "code",
   "execution_count": 3,
   "id": "c2943954",
   "metadata": {},
   "outputs": [
    {
     "name": "stdout",
     "output_type": "stream",
     "text": [
      "Downloaded: ../data/4532eea4-24b7-461a-93f5-fe437ee96f0a.h5ad\n"
     ]
    },
    {
     "name": "stderr",
     "output_type": "stream",
     "text": [
      "/home/pschaefer/miniforge3/envs/partipy/lib/python3.11/site-packages/anndata/_core/anndata.py:740: UserWarning: \n",
      "AnnData expects .var.index to contain strings, but got values like:\n",
      "    ['MIR1302-2HG', 'FAM138A', 'OR4F5', 'ENSG00000238009.6', 'ENSG00000239945.1']\n",
      "\n",
      "    Inferred to be: categorical\n",
      "\n"
     ]
    },
    {
     "data": {
      "text/plain": [
       "AnnData object with n_obs × n_vars = 47819 × 30867\n",
       "    obs: 'library_uuid', 'author_cell_type', 'sample_uuid', 'disease_state', 'donor_id', 'Processing_Cohort', 'ct_cov', 'ind_cov', 'cell_type', 'assay', 'disease', 'sex', 'self_reported_ethnicity', 'development_stage', 'observation_joinid', 'Status'\n",
       "    var: 'feature_is_filtered', 'feature_reference', 'feature_biotype', 'feature_length', 'feature_type'"
      ]
     },
     "execution_count": 3,
     "metadata": {},
     "output_type": "execute_result"
    }
   ],
   "source": [
    "from pathlib import Path\n",
    "import os\n",
    "import requests\n",
    "import gc\n",
    "\n",
    "import plotnine as pn\n",
    "import scanpy as sc\n",
    "import matplotlib.pyplot as plt\n",
    "import seaborn as sns\n",
    "import partipy as pt\n",
    "import decoupler as dc\n",
    "\n",
    "data_dir = Path(\"..\") / \"data\"\n",
    "data_dir.mkdir(exist_ok=True)\n",
    "\n",
    "# File URL to download\n",
    "url = \"https://datasets.cellxgene.cziscience.com/4532eea4-24b7-461a-93f5-fe437ee96f0a.h5ad\"\n",
    "filename = data_dir / os.path.basename(url)\n",
    "\n",
    "# Download file if it does not already exist\n",
    "if not filename.exists():\n",
    "    response = requests.get(url, stream=True)\n",
    "    response.raise_for_status()\n",
    "    \n",
    "    with open(filename, \"wb\") as file:\n",
    "        for chunk in response.iter_content(chunk_size=8192):\n",
    "            file.write(chunk)\n",
    "    \n",
    "    print(f\"Downloaded: {filename}\")\n",
    "else:\n",
    "    print(f\"File already exists, skipping: {filename}\")\n",
    "\n",
    "adata = sc.read_h5ad(data_dir / \"4532eea4-24b7-461a-93f5-fe437ee96f0a.h5ad\")\n",
    "adata.obs[\"Status\"] = adata.obs[\"disease_state\"].map({\n",
    "    \"managed\": \"Managed\",\n",
    "    \"na\": \"Healthy\",\n",
    "    \"flare\": \"Flare\",\n",
    "    \"treated\": \"Treated\"\n",
    "})\n",
    "adata = adata[adata.obs[\"author_cell_type\"]==\"ncM\", :].copy() # only consider non-classical monocytes\n",
    "adata = adata[adata.obs[\"Status\"] != \"Treated\", :].copy() # remove samples with \"treated\" status\n",
    "# remove columns we don\"t need\n",
    "adata.obs.drop(columns=[\"mapped_reference_annotation\", \"cell_type_ontology_term_id\", \"is_primary_data\", \n",
    "                        \"cell_state\", \"tissue_ontology_term_id\", \"development_stage_ontology_term_id\", \n",
    "                        \"tissue\", \"organism\", \"tissue_type\", \"suspension_type\", \"organism_ontology_term_id\",\n",
    "                        \"assay_ontology_term_id\", \"suspension_enriched_cell_types\", \"suspension_uuid\",\n",
    "                        \"self_reported_ethnicity_ontology_term_id\", \"disease_ontology_term_id\",\n",
    "                        \"sex_ontology_term_id\"], \n",
    "                        inplace=True)\n",
    "# create new index\n",
    "adata.obs.index = [s.split(\"-\")[0] + \"-\" + str(len(s.split(\"-\"))) + \"-\" + str(donor_id) \n",
    "                   for s, donor_id in zip(adata.obs.index, adata.obs[\"donor_id\"].to_list())]\n",
    "# remove obsm we don't need\n",
    "del adata.obsm[\"X_pca\"], adata.obsm[\"X_umap\"], adata.uns\n",
    "gc.collect()\n",
    "\n",
    "# use the raw counts\n",
    "adata.X = adata.raw.X\n",
    "\n",
    "# use gene symbols instead of ensembl IDs\n",
    "assert len(adata.var[\"feature_name\"]) == len(adata.var[\"feature_name\"].unique())\n",
    "adata.var = adata.var.set_index(\"feature_name\")\n",
    "\n",
    "adata"
   ]
  },
  {
   "cell_type": "code",
   "execution_count": null,
   "id": "9612f238",
   "metadata": {},
   "outputs": [],
   "source": []
  },
  {
   "cell_type": "code",
   "execution_count": null,
   "id": "5f72c642",
   "metadata": {},
   "outputs": [],
   "source": []
  },
  {
   "cell_type": "code",
   "execution_count": null,
   "id": "5fefd825",
   "metadata": {},
   "outputs": [],
   "source": []
  }
 ],
 "metadata": {
  "kernelspec": {
   "display_name": "partipy",
   "language": "python",
   "name": "python3"
  },
  "language_info": {
   "codemirror_mode": {
    "name": "ipython",
    "version": 3
   },
   "file_extension": ".py",
   "mimetype": "text/x-python",
   "name": "python",
   "nbconvert_exporter": "python",
   "pygments_lexer": "ipython3",
   "version": "3.11.0"
  }
 },
 "nbformat": 4,
 "nbformat_minor": 5
}
